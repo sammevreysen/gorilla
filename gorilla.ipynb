{
 "cells": [
  {
   "cell_type": "markdown",
   "source": [
    "# Gorilla Data Engineer Assessment\n",
    "## Setup"
   ],
   "metadata": {
    "collapsed": false
   }
  },
  {
   "cell_type": "code",
   "execution_count": 1,
   "outputs": [
    {
     "name": "stdout",
     "output_type": "stream",
     "text": [
      "3.11.4\n"
     ]
    }
   ],
   "source": [
    "import platform\n",
    "print(platform.python_version())"
   ],
   "metadata": {
    "collapsed": false,
    "ExecuteTime": {
     "start_time": "2023-12-04T10:34:50.153110Z",
     "end_time": "2023-12-04T10:34:50.156125Z"
    }
   }
  },
  {
   "cell_type": "code",
   "execution_count": 17,
   "outputs": [
    {
     "name": "stdout",
     "output_type": "stream",
     "text": [
      "jupyter==1.0.0\r\n",
      "jupyter-console==6.6.3\r\n",
      "jupyter-events==0.9.0\r\n",
      "jupyter-lsp==2.2.1\r\n",
      "jupyter_client==8.6.0\r\n",
      "jupyter_core==5.5.0\r\n",
      "jupyter_server==2.11.1\r\n",
      "jupyter_server_terminals==0.4.4\r\n",
      "jupyterlab==4.0.9\r\n",
      "jupyterlab-widgets==3.0.9\r\n",
      "jupyterlab_pygments==0.3.0\r\n",
      "jupyterlab_server==2.25.2\r\n",
      "matplotlib==3.8.2\r\n",
      "matplotlib-inline==0.1.6\r\n",
      "numpy==1.26.2\r\n",
      "openpyxl==3.1.2\r\n",
      "pandas==2.1.3\r\n",
      "seaborn==0.13.0\r\n"
     ]
    }
   ],
   "source": [
    "!pip freeze | grep -f requirements.txt"
   ],
   "metadata": {
    "collapsed": false,
    "ExecuteTime": {
     "start_time": "2023-12-04T10:52:20.557360Z",
     "end_time": "2023-12-04T10:52:20.961220Z"
    }
   }
  },
  {
   "cell_type": "markdown",
   "source": [
    "## Load data"
   ],
   "metadata": {
    "collapsed": false
   }
  },
  {
   "cell_type": "code",
   "execution_count": 18,
   "outputs": [],
   "source": [
    "import pandas as pd\n",
    "\n",
    "df_meter_list = pd.read_excel(r'data/gorilla_test_data.xlsx', sheet_name='meter_list')\n",
    "df_forecast_table = pd.read_excel(r'data/gorilla_test_data.xlsx', sheet_name='forecast_table')\n",
    "df_rate_table = pd.read_excel(r'data/gorilla_test_data.xlsx', sheet_name='rate_table')"
   ],
   "metadata": {
    "collapsed": false,
    "ExecuteTime": {
     "start_time": "2023-12-04T10:52:27.321031Z",
     "end_time": "2023-12-04T10:52:27.546646Z"
    }
   }
  },
  {
   "cell_type": "code",
   "execution_count": 20,
   "outputs": [
    {
     "data": {
      "text/plain": "   meter_id  aq_kwh exit_zone\n0  14676236   28978       EA1\n1  34509937   78324       SO1\n2  50264822  265667       NT1\n3  88357331  484399       SE2",
      "text/html": "<div>\n<style scoped>\n    .dataframe tbody tr th:only-of-type {\n        vertical-align: middle;\n    }\n\n    .dataframe tbody tr th {\n        vertical-align: top;\n    }\n\n    .dataframe thead th {\n        text-align: right;\n    }\n</style>\n<table border=\"1\" class=\"dataframe\">\n  <thead>\n    <tr style=\"text-align: right;\">\n      <th></th>\n      <th>meter_id</th>\n      <th>aq_kwh</th>\n      <th>exit_zone</th>\n    </tr>\n  </thead>\n  <tbody>\n    <tr>\n      <th>0</th>\n      <td>14676236</td>\n      <td>28978</td>\n      <td>EA1</td>\n    </tr>\n    <tr>\n      <th>1</th>\n      <td>34509937</td>\n      <td>78324</td>\n      <td>SO1</td>\n    </tr>\n    <tr>\n      <th>2</th>\n      <td>50264822</td>\n      <td>265667</td>\n      <td>NT1</td>\n    </tr>\n    <tr>\n      <th>3</th>\n      <td>88357331</td>\n      <td>484399</td>\n      <td>SE2</td>\n    </tr>\n  </tbody>\n</table>\n</div>"
     },
     "execution_count": 20,
     "metadata": {},
     "output_type": "execute_result"
    }
   ],
   "source": [
    "df_meter_list.head()"
   ],
   "metadata": {
    "collapsed": false,
    "ExecuteTime": {
     "start_time": "2023-12-04T10:52:45.296881Z",
     "end_time": "2023-12-04T10:52:45.300884Z"
    }
   }
  },
  {
   "cell_type": "code",
   "execution_count": 21,
   "outputs": [
    {
     "data": {
      "text/plain": "   meter_id       date        kwh\n0  14676236 2020-06-01  22.070768\n1  14676236 2020-06-02  19.170720\n2  14676236 2020-06-03  23.555111\n3  14676236 2020-06-04  18.220712\n4  14676236 2020-06-05  14.196134",
      "text/html": "<div>\n<style scoped>\n    .dataframe tbody tr th:only-of-type {\n        vertical-align: middle;\n    }\n\n    .dataframe tbody tr th {\n        vertical-align: top;\n    }\n\n    .dataframe thead th {\n        text-align: right;\n    }\n</style>\n<table border=\"1\" class=\"dataframe\">\n  <thead>\n    <tr style=\"text-align: right;\">\n      <th></th>\n      <th>meter_id</th>\n      <th>date</th>\n      <th>kwh</th>\n    </tr>\n  </thead>\n  <tbody>\n    <tr>\n      <th>0</th>\n      <td>14676236</td>\n      <td>2020-06-01</td>\n      <td>22.070768</td>\n    </tr>\n    <tr>\n      <th>1</th>\n      <td>14676236</td>\n      <td>2020-06-02</td>\n      <td>19.170720</td>\n    </tr>\n    <tr>\n      <th>2</th>\n      <td>14676236</td>\n      <td>2020-06-03</td>\n      <td>23.555111</td>\n    </tr>\n    <tr>\n      <th>3</th>\n      <td>14676236</td>\n      <td>2020-06-04</td>\n      <td>18.220712</td>\n    </tr>\n    <tr>\n      <th>4</th>\n      <td>14676236</td>\n      <td>2020-06-05</td>\n      <td>14.196134</td>\n    </tr>\n  </tbody>\n</table>\n</div>"
     },
     "execution_count": 21,
     "metadata": {},
     "output_type": "execute_result"
    }
   ],
   "source": [
    "df_forecast_table.head()"
   ],
   "metadata": {
    "collapsed": false,
    "ExecuteTime": {
     "start_time": "2023-12-04T10:52:53.184514Z",
     "end_time": "2023-12-04T10:52:53.187381Z"
    }
   }
  },
  {
   "cell_type": "code",
   "execution_count": 22,
   "outputs": [
    {
     "data": {
      "text/plain": "        date exit_zone  aq_min_kwh  aq_max_kwh  rate_p_per_kwh\n0 2020-04-01       EA1           0     73200.0          0.2652\n1 2020-04-01       EA1       73200    732000.0          0.1980\n2 2020-04-01       EA1      732000         NaN          0.2875\n3 2020-04-01       EA2           0     73200.0          0.2970\n4 2020-04-01       EA2       73200    732000.0          0.1524",
      "text/html": "<div>\n<style scoped>\n    .dataframe tbody tr th:only-of-type {\n        vertical-align: middle;\n    }\n\n    .dataframe tbody tr th {\n        vertical-align: top;\n    }\n\n    .dataframe thead th {\n        text-align: right;\n    }\n</style>\n<table border=\"1\" class=\"dataframe\">\n  <thead>\n    <tr style=\"text-align: right;\">\n      <th></th>\n      <th>date</th>\n      <th>exit_zone</th>\n      <th>aq_min_kwh</th>\n      <th>aq_max_kwh</th>\n      <th>rate_p_per_kwh</th>\n    </tr>\n  </thead>\n  <tbody>\n    <tr>\n      <th>0</th>\n      <td>2020-04-01</td>\n      <td>EA1</td>\n      <td>0</td>\n      <td>73200.0</td>\n      <td>0.2652</td>\n    </tr>\n    <tr>\n      <th>1</th>\n      <td>2020-04-01</td>\n      <td>EA1</td>\n      <td>73200</td>\n      <td>732000.0</td>\n      <td>0.1980</td>\n    </tr>\n    <tr>\n      <th>2</th>\n      <td>2020-04-01</td>\n      <td>EA1</td>\n      <td>732000</td>\n      <td>NaN</td>\n      <td>0.2875</td>\n    </tr>\n    <tr>\n      <th>3</th>\n      <td>2020-04-01</td>\n      <td>EA2</td>\n      <td>0</td>\n      <td>73200.0</td>\n      <td>0.2970</td>\n    </tr>\n    <tr>\n      <th>4</th>\n      <td>2020-04-01</td>\n      <td>EA2</td>\n      <td>73200</td>\n      <td>732000.0</td>\n      <td>0.1524</td>\n    </tr>\n  </tbody>\n</table>\n</div>"
     },
     "execution_count": 22,
     "metadata": {},
     "output_type": "execute_result"
    }
   ],
   "source": [
    "df_rate_table.head()"
   ],
   "metadata": {
    "collapsed": false,
    "ExecuteTime": {
     "start_time": "2023-12-04T10:53:00.783840Z",
     "end_time": "2023-12-04T10:53:00.786047Z"
    }
   }
  },
  {
   "cell_type": "code",
   "execution_count": null,
   "outputs": [],
   "source": [],
   "metadata": {
    "collapsed": false
   }
  }
 ],
 "metadata": {
  "kernelspec": {
   "display_name": "Python 3",
   "language": "python",
   "name": "python3"
  },
  "language_info": {
   "codemirror_mode": {
    "name": "ipython",
    "version": 2
   },
   "file_extension": ".py",
   "mimetype": "text/x-python",
   "name": "python",
   "nbconvert_exporter": "python",
   "pygments_lexer": "ipython2",
   "version": "2.7.6"
  }
 },
 "nbformat": 4,
 "nbformat_minor": 0
}
