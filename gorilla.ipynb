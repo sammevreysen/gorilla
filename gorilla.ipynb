{
 "cells": [
  {
   "cell_type": "markdown",
   "source": [
    "# Gorilla Data Engineer Assessment\n",
    "## Setup"
   ],
   "metadata": {
    "collapsed": false
   }
  },
  {
   "cell_type": "code",
   "execution_count": 1,
   "outputs": [
    {
     "name": "stdout",
     "output_type": "stream",
     "text": [
      "3.11.4\n"
     ]
    }
   ],
   "source": [
    "import platform\n",
    "\n",
    "print(platform.python_version())"
   ],
   "metadata": {
    "collapsed": false,
    "ExecuteTime": {
     "start_time": "2023-12-04T10:34:50.153110Z",
     "end_time": "2023-12-04T10:34:50.156125Z"
    }
   }
  },
  {
   "cell_type": "code",
   "execution_count": 17,
   "outputs": [
    {
     "name": "stdout",
     "output_type": "stream",
     "text": [
      "jupyter==1.0.0\r\n",
      "jupyter-console==6.6.3\r\n",
      "jupyter-events==0.9.0\r\n",
      "jupyter-lsp==2.2.1\r\n",
      "jupyter_client==8.6.0\r\n",
      "jupyter_core==5.5.0\r\n",
      "jupyter_server==2.11.1\r\n",
      "jupyter_server_terminals==0.4.4\r\n",
      "jupyterlab==4.0.9\r\n",
      "jupyterlab-widgets==3.0.9\r\n",
      "jupyterlab_pygments==0.3.0\r\n",
      "jupyterlab_server==2.25.2\r\n",
      "matplotlib==3.8.2\r\n",
      "matplotlib-inline==0.1.6\r\n",
      "numpy==1.26.2\r\n",
      "openpyxl==3.1.2\r\n",
      "pandas==2.1.3\r\n",
      "seaborn==0.13.0\r\n"
     ]
    }
   ],
   "source": [
    "!pip freeze | grep -f requirements.txt"
   ],
   "metadata": {
    "collapsed": false,
    "ExecuteTime": {
     "start_time": "2023-12-04T10:52:20.557360Z",
     "end_time": "2023-12-04T10:52:20.961220Z"
    }
   }
  },
  {
   "cell_type": "markdown",
   "source": [
    "## Load data"
   ],
   "metadata": {
    "collapsed": false
   }
  },
  {
   "cell_type": "code",
   "execution_count": 102,
   "outputs": [],
   "source": [
    "import pandas as pd\n",
    "import numpy as np\n",
    "from datetime import datetime\n",
    "\n",
    "df_meter_list = pd.read_excel(r'data/gorilla_test_data.xlsx', sheet_name='meter_list')\n",
    "df_forecast_table = pd.read_excel(r'data/gorilla_test_data.xlsx', sheet_name='forecast_table')\n",
    "df_rate_table = pd.read_excel(r'data/gorilla_test_data.xlsx', sheet_name='rate_table')"
   ],
   "metadata": {
    "collapsed": false,
    "ExecuteTime": {
     "start_time": "2023-12-04T12:53:48.484779Z",
     "end_time": "2023-12-04T12:53:48.596370Z"
    }
   }
  },
  {
   "cell_type": "code",
   "execution_count": 39,
   "outputs": [
    {
     "data": {
      "text/plain": "   meter_id  aq_kwh exit_zone\n0  14676236   28978       EA1\n1  34509937   78324       SO1\n2  50264822  265667       NT1\n3  88357331  484399       SE2",
      "text/html": "<div>\n<style scoped>\n    .dataframe tbody tr th:only-of-type {\n        vertical-align: middle;\n    }\n\n    .dataframe tbody tr th {\n        vertical-align: top;\n    }\n\n    .dataframe thead th {\n        text-align: right;\n    }\n</style>\n<table border=\"1\" class=\"dataframe\">\n  <thead>\n    <tr style=\"text-align: right;\">\n      <th></th>\n      <th>meter_id</th>\n      <th>aq_kwh</th>\n      <th>exit_zone</th>\n    </tr>\n  </thead>\n  <tbody>\n    <tr>\n      <th>0</th>\n      <td>14676236</td>\n      <td>28978</td>\n      <td>EA1</td>\n    </tr>\n    <tr>\n      <th>1</th>\n      <td>34509937</td>\n      <td>78324</td>\n      <td>SO1</td>\n    </tr>\n    <tr>\n      <th>2</th>\n      <td>50264822</td>\n      <td>265667</td>\n      <td>NT1</td>\n    </tr>\n    <tr>\n      <th>3</th>\n      <td>88357331</td>\n      <td>484399</td>\n      <td>SE2</td>\n    </tr>\n  </tbody>\n</table>\n</div>"
     },
     "execution_count": 39,
     "metadata": {},
     "output_type": "execute_result"
    }
   ],
   "source": [
    "df_meter_list.head()"
   ],
   "metadata": {
    "collapsed": false,
    "ExecuteTime": {
     "start_time": "2023-12-04T11:15:42.280203Z",
     "end_time": "2023-12-04T11:15:42.285328Z"
    }
   }
  },
  {
   "cell_type": "code",
   "execution_count": 48,
   "outputs": [
    {
     "name": "stdout",
     "output_type": "stream",
     "text": [
      "<class 'pandas.core.frame.DataFrame'>\n",
      "RangeIndex: 3412 entries, 0 to 3411\n",
      "Data columns (total 3 columns):\n",
      " #   Column    Non-Null Count  Dtype         \n",
      "---  ------    --------------  -----         \n",
      " 0   meter_id  3412 non-null   int64         \n",
      " 1   date      3412 non-null   datetime64[ns]\n",
      " 2   kwh       3412 non-null   float64       \n",
      "dtypes: datetime64[ns](1), float64(1), int64(1)\n",
      "memory usage: 80.1 KB\n"
     ]
    }
   ],
   "source": [
    "df_forecast_table.info()"
   ],
   "metadata": {
    "collapsed": false,
    "ExecuteTime": {
     "start_time": "2023-12-04T11:36:05.948438Z",
     "end_time": "2023-12-04T11:36:05.952670Z"
    }
   }
  },
  {
   "cell_type": "code",
   "execution_count": 37,
   "outputs": [
    {
     "data": {
      "text/plain": "                min        max\nmeter_id                      \n14676236 2020-06-01 2022-10-01\n34509937 2020-06-01 2022-10-01\n50264822 2020-06-01 2022-10-01\n88357331 2020-06-01 2022-10-01",
      "text/html": "<div>\n<style scoped>\n    .dataframe tbody tr th:only-of-type {\n        vertical-align: middle;\n    }\n\n    .dataframe tbody tr th {\n        vertical-align: top;\n    }\n\n    .dataframe thead th {\n        text-align: right;\n    }\n</style>\n<table border=\"1\" class=\"dataframe\">\n  <thead>\n    <tr style=\"text-align: right;\">\n      <th></th>\n      <th>min</th>\n      <th>max</th>\n    </tr>\n    <tr>\n      <th>meter_id</th>\n      <th></th>\n      <th></th>\n    </tr>\n  </thead>\n  <tbody>\n    <tr>\n      <th>14676236</th>\n      <td>2020-06-01</td>\n      <td>2022-10-01</td>\n    </tr>\n    <tr>\n      <th>34509937</th>\n      <td>2020-06-01</td>\n      <td>2022-10-01</td>\n    </tr>\n    <tr>\n      <th>50264822</th>\n      <td>2020-06-01</td>\n      <td>2022-10-01</td>\n    </tr>\n    <tr>\n      <th>88357331</th>\n      <td>2020-06-01</td>\n      <td>2022-10-01</td>\n    </tr>\n  </tbody>\n</table>\n</div>"
     },
     "execution_count": 37,
     "metadata": {},
     "output_type": "execute_result"
    }
   ],
   "source": [
    "df_forecast_table.groupby('meter_id')['date'].agg(['min', 'max'])"
   ],
   "metadata": {
    "collapsed": false
   }
  },
  {
   "cell_type": "code",
   "execution_count": 28,
   "outputs": [
    {
     "data": {
      "text/plain": "        date exit_zone  aq_min_kwh  aq_max_kwh  rate_p_per_kwh\n0 2020-04-01       EA1           0     73200.0          0.2652\n1 2020-04-01       EA1       73200    732000.0          0.1980\n2 2020-04-01       EA1      732000         NaN          0.2875\n3 2020-04-01       EA2           0     73200.0          0.2970\n4 2020-04-01       EA2       73200    732000.0          0.1524",
      "text/html": "<div>\n<style scoped>\n    .dataframe tbody tr th:only-of-type {\n        vertical-align: middle;\n    }\n\n    .dataframe tbody tr th {\n        vertical-align: top;\n    }\n\n    .dataframe thead th {\n        text-align: right;\n    }\n</style>\n<table border=\"1\" class=\"dataframe\">\n  <thead>\n    <tr style=\"text-align: right;\">\n      <th></th>\n      <th>date</th>\n      <th>exit_zone</th>\n      <th>aq_min_kwh</th>\n      <th>aq_max_kwh</th>\n      <th>rate_p_per_kwh</th>\n    </tr>\n  </thead>\n  <tbody>\n    <tr>\n      <th>0</th>\n      <td>2020-04-01</td>\n      <td>EA1</td>\n      <td>0</td>\n      <td>73200.0</td>\n      <td>0.2652</td>\n    </tr>\n    <tr>\n      <th>1</th>\n      <td>2020-04-01</td>\n      <td>EA1</td>\n      <td>73200</td>\n      <td>732000.0</td>\n      <td>0.1980</td>\n    </tr>\n    <tr>\n      <th>2</th>\n      <td>2020-04-01</td>\n      <td>EA1</td>\n      <td>732000</td>\n      <td>NaN</td>\n      <td>0.2875</td>\n    </tr>\n    <tr>\n      <th>3</th>\n      <td>2020-04-01</td>\n      <td>EA2</td>\n      <td>0</td>\n      <td>73200.0</td>\n      <td>0.2970</td>\n    </tr>\n    <tr>\n      <th>4</th>\n      <td>2020-04-01</td>\n      <td>EA2</td>\n      <td>73200</td>\n      <td>732000.0</td>\n      <td>0.1524</td>\n    </tr>\n  </tbody>\n</table>\n</div>"
     },
     "execution_count": 28,
     "metadata": {},
     "output_type": "execute_result"
    }
   ],
   "source": [
    "df_rate_table.head()"
   ],
   "metadata": {
    "collapsed": false
   }
  },
  {
   "cell_type": "markdown",
   "source": [
    "## Exercise 1: Total Estimated Consumption and Total Cost"
   ],
   "metadata": {
    "collapsed": false
   }
  },
  {
   "cell_type": "code",
   "execution_count": 70,
   "outputs": [
    {
     "data": {
      "text/plain": "               kwh\nmeter_id          \n14676236   28978.0\n34509937   78324.0\n50264822  265667.0\n88357331  484399.0",
      "text/html": "<div>\n<style scoped>\n    .dataframe tbody tr th:only-of-type {\n        vertical-align: middle;\n    }\n\n    .dataframe tbody tr th {\n        vertical-align: top;\n    }\n\n    .dataframe thead th {\n        text-align: right;\n    }\n</style>\n<table border=\"1\" class=\"dataframe\">\n  <thead>\n    <tr style=\"text-align: right;\">\n      <th></th>\n      <th>kwh</th>\n    </tr>\n    <tr>\n      <th>meter_id</th>\n      <th></th>\n    </tr>\n  </thead>\n  <tbody>\n    <tr>\n      <th>14676236</th>\n      <td>28978.0</td>\n    </tr>\n    <tr>\n      <th>34509937</th>\n      <td>78324.0</td>\n    </tr>\n    <tr>\n      <th>50264822</th>\n      <td>265667.0</td>\n    </tr>\n    <tr>\n      <th>88357331</th>\n      <td>484399.0</td>\n    </tr>\n  </tbody>\n</table>\n</div>"
     },
     "execution_count": 70,
     "metadata": {},
     "output_type": "execute_result"
    }
   ],
   "source": [
    "total_consumption = df_forecast_table.groupby('meter_id')[['kwh']].sum()\n",
    "total_consumption\n",
    "# total sum equals aq_kwh column in df_meter_list"
   ],
   "metadata": {
    "collapsed": false,
    "ExecuteTime": {
     "start_time": "2023-12-04T12:09:42.517806Z",
     "end_time": "2023-12-04T12:09:42.522273Z"
    }
   }
  },
  {
   "cell_type": "code",
   "execution_count": 63,
   "outputs": [
    {
     "data": {
      "text/plain": "     date_start exit_zone  aq_min_kwh  aq_max_kwh  rate_p_per_kwh   date_end\n0    2020-04-01       EA1           0     73200.0          0.2652 2020-10-01\n1    2020-04-01       EA1       73200    732000.0          0.1980 2020-10-01\n2    2020-04-01       EA1      732000         NaN          0.2875 2020-10-01\n3    2020-04-01       EA2           0     73200.0          0.2970 2020-10-01\n4    2020-04-01       EA2       73200    732000.0          0.1524 2020-10-01\n...         ...       ...         ...         ...             ...        ...\n1135 2024-10-01       WM2       73200    732000.0          0.4537 2025-04-01\n1136 2024-10-01       WM2      732000         NaN          0.7534 2025-04-01\n1137 2024-10-01       WM3           0     73200.0          0.7263 2025-04-01\n1138 2024-10-01       WM3       73200    732000.0          0.6109 2025-04-01\n1139 2024-10-01       WM3      732000         NaN          0.4928 2025-04-01\n\n[1140 rows x 6 columns]",
      "text/html": "<div>\n<style scoped>\n    .dataframe tbody tr th:only-of-type {\n        vertical-align: middle;\n    }\n\n    .dataframe tbody tr th {\n        vertical-align: top;\n    }\n\n    .dataframe thead th {\n        text-align: right;\n    }\n</style>\n<table border=\"1\" class=\"dataframe\">\n  <thead>\n    <tr style=\"text-align: right;\">\n      <th></th>\n      <th>date_start</th>\n      <th>exit_zone</th>\n      <th>aq_min_kwh</th>\n      <th>aq_max_kwh</th>\n      <th>rate_p_per_kwh</th>\n      <th>date_end</th>\n    </tr>\n  </thead>\n  <tbody>\n    <tr>\n      <th>0</th>\n      <td>2020-04-01</td>\n      <td>EA1</td>\n      <td>0</td>\n      <td>73200.0</td>\n      <td>0.2652</td>\n      <td>2020-10-01</td>\n    </tr>\n    <tr>\n      <th>1</th>\n      <td>2020-04-01</td>\n      <td>EA1</td>\n      <td>73200</td>\n      <td>732000.0</td>\n      <td>0.1980</td>\n      <td>2020-10-01</td>\n    </tr>\n    <tr>\n      <th>2</th>\n      <td>2020-04-01</td>\n      <td>EA1</td>\n      <td>732000</td>\n      <td>NaN</td>\n      <td>0.2875</td>\n      <td>2020-10-01</td>\n    </tr>\n    <tr>\n      <th>3</th>\n      <td>2020-04-01</td>\n      <td>EA2</td>\n      <td>0</td>\n      <td>73200.0</td>\n      <td>0.2970</td>\n      <td>2020-10-01</td>\n    </tr>\n    <tr>\n      <th>4</th>\n      <td>2020-04-01</td>\n      <td>EA2</td>\n      <td>73200</td>\n      <td>732000.0</td>\n      <td>0.1524</td>\n      <td>2020-10-01</td>\n    </tr>\n    <tr>\n      <th>...</th>\n      <td>...</td>\n      <td>...</td>\n      <td>...</td>\n      <td>...</td>\n      <td>...</td>\n      <td>...</td>\n    </tr>\n    <tr>\n      <th>1135</th>\n      <td>2024-10-01</td>\n      <td>WM2</td>\n      <td>73200</td>\n      <td>732000.0</td>\n      <td>0.4537</td>\n      <td>2025-04-01</td>\n    </tr>\n    <tr>\n      <th>1136</th>\n      <td>2024-10-01</td>\n      <td>WM2</td>\n      <td>732000</td>\n      <td>NaN</td>\n      <td>0.7534</td>\n      <td>2025-04-01</td>\n    </tr>\n    <tr>\n      <th>1137</th>\n      <td>2024-10-01</td>\n      <td>WM3</td>\n      <td>0</td>\n      <td>73200.0</td>\n      <td>0.7263</td>\n      <td>2025-04-01</td>\n    </tr>\n    <tr>\n      <th>1138</th>\n      <td>2024-10-01</td>\n      <td>WM3</td>\n      <td>73200</td>\n      <td>732000.0</td>\n      <td>0.6109</td>\n      <td>2025-04-01</td>\n    </tr>\n    <tr>\n      <th>1139</th>\n      <td>2024-10-01</td>\n      <td>WM3</td>\n      <td>732000</td>\n      <td>NaN</td>\n      <td>0.4928</td>\n      <td>2025-04-01</td>\n    </tr>\n  </tbody>\n</table>\n<p>1140 rows × 6 columns</p>\n</div>"
     },
     "execution_count": 63,
     "metadata": {},
     "output_type": "execute_result"
    }
   ],
   "source": [
    "# calculate end date of period (+6m of start date)\n",
    "df_rate_table = df_rate_table.rename(columns={'date': 'date_start'})\n",
    "df_rate_table['date_end'] = df_rate_table['date_start'] + pd.offsets.DateOffset(months=6)\n",
    "df_rate_table"
   ],
   "metadata": {
    "collapsed": false,
    "ExecuteTime": {
     "start_time": "2023-12-04T11:56:37.979316Z",
     "end_time": "2023-12-04T11:56:37.985441Z"
    }
   }
  },
  {
   "cell_type": "code",
   "execution_count": 68,
   "outputs": [
    {
     "data": {
      "text/plain": "        meter_id       date         kwh  aq_kwh exit_zone date_start  \\\n0       14676236 2020-06-01   22.070768   28978       EA1 2020-04-01   \n1       14676236 2020-06-01   22.070768   28978       EA1 2020-04-01   \n2       14676236 2020-06-01   22.070768   28978       EA1 2020-04-01   \n3       14676236 2020-06-01   22.070768   28978       EA1 2020-10-01   \n4       14676236 2020-06-01   22.070768   28978       EA1 2020-10-01   \n...          ...        ...         ...     ...       ...        ...   \n102355  88357331 2022-10-01  460.535505  484399       SE2 2024-04-01   \n102356  88357331 2022-10-01  460.535505  484399       SE2 2024-04-01   \n102357  88357331 2022-10-01  460.535505  484399       SE2 2024-10-01   \n102358  88357331 2022-10-01  460.535505  484399       SE2 2024-10-01   \n102359  88357331 2022-10-01  460.535505  484399       SE2 2024-10-01   \n\n        aq_min_kwh  aq_max_kwh  rate_p_per_kwh   date_end  aq_max_kwh_clean  \n0                0     73200.0          0.2652 2020-10-01           73200.0  \n1            73200    732000.0          0.1980 2020-10-01          732000.0  \n2           732000         NaN          0.2875 2020-10-01          732000.0  \n3                0     73200.0          0.2970 2021-04-01           73200.0  \n4            73200    732000.0          0.2218 2021-04-01          732000.0  \n...            ...         ...             ...        ...               ...  \n102355       73200    732000.0          0.5739 2024-10-01          732000.0  \n102356      732000         NaN          0.5717 2024-10-01          732000.0  \n102357           0     73200.0          0.6015 2025-04-01           73200.0  \n102358       73200    732000.0          0.6428 2025-04-01          732000.0  \n102359      732000         NaN          0.6403 2025-04-01          732000.0  \n\n[102360 rows x 11 columns]",
      "text/html": "<div>\n<style scoped>\n    .dataframe tbody tr th:only-of-type {\n        vertical-align: middle;\n    }\n\n    .dataframe tbody tr th {\n        vertical-align: top;\n    }\n\n    .dataframe thead th {\n        text-align: right;\n    }\n</style>\n<table border=\"1\" class=\"dataframe\">\n  <thead>\n    <tr style=\"text-align: right;\">\n      <th></th>\n      <th>meter_id</th>\n      <th>date</th>\n      <th>kwh</th>\n      <th>aq_kwh</th>\n      <th>exit_zone</th>\n      <th>date_start</th>\n      <th>aq_min_kwh</th>\n      <th>aq_max_kwh</th>\n      <th>rate_p_per_kwh</th>\n      <th>date_end</th>\n      <th>aq_max_kwh_clean</th>\n    </tr>\n  </thead>\n  <tbody>\n    <tr>\n      <th>0</th>\n      <td>14676236</td>\n      <td>2020-06-01</td>\n      <td>22.070768</td>\n      <td>28978</td>\n      <td>EA1</td>\n      <td>2020-04-01</td>\n      <td>0</td>\n      <td>73200.0</td>\n      <td>0.2652</td>\n      <td>2020-10-01</td>\n      <td>73200.0</td>\n    </tr>\n    <tr>\n      <th>1</th>\n      <td>14676236</td>\n      <td>2020-06-01</td>\n      <td>22.070768</td>\n      <td>28978</td>\n      <td>EA1</td>\n      <td>2020-04-01</td>\n      <td>73200</td>\n      <td>732000.0</td>\n      <td>0.1980</td>\n      <td>2020-10-01</td>\n      <td>732000.0</td>\n    </tr>\n    <tr>\n      <th>2</th>\n      <td>14676236</td>\n      <td>2020-06-01</td>\n      <td>22.070768</td>\n      <td>28978</td>\n      <td>EA1</td>\n      <td>2020-04-01</td>\n      <td>732000</td>\n      <td>NaN</td>\n      <td>0.2875</td>\n      <td>2020-10-01</td>\n      <td>732000.0</td>\n    </tr>\n    <tr>\n      <th>3</th>\n      <td>14676236</td>\n      <td>2020-06-01</td>\n      <td>22.070768</td>\n      <td>28978</td>\n      <td>EA1</td>\n      <td>2020-10-01</td>\n      <td>0</td>\n      <td>73200.0</td>\n      <td>0.2970</td>\n      <td>2021-04-01</td>\n      <td>73200.0</td>\n    </tr>\n    <tr>\n      <th>4</th>\n      <td>14676236</td>\n      <td>2020-06-01</td>\n      <td>22.070768</td>\n      <td>28978</td>\n      <td>EA1</td>\n      <td>2020-10-01</td>\n      <td>73200</td>\n      <td>732000.0</td>\n      <td>0.2218</td>\n      <td>2021-04-01</td>\n      <td>732000.0</td>\n    </tr>\n    <tr>\n      <th>...</th>\n      <td>...</td>\n      <td>...</td>\n      <td>...</td>\n      <td>...</td>\n      <td>...</td>\n      <td>...</td>\n      <td>...</td>\n      <td>...</td>\n      <td>...</td>\n      <td>...</td>\n      <td>...</td>\n    </tr>\n    <tr>\n      <th>102355</th>\n      <td>88357331</td>\n      <td>2022-10-01</td>\n      <td>460.535505</td>\n      <td>484399</td>\n      <td>SE2</td>\n      <td>2024-04-01</td>\n      <td>73200</td>\n      <td>732000.0</td>\n      <td>0.5739</td>\n      <td>2024-10-01</td>\n      <td>732000.0</td>\n    </tr>\n    <tr>\n      <th>102356</th>\n      <td>88357331</td>\n      <td>2022-10-01</td>\n      <td>460.535505</td>\n      <td>484399</td>\n      <td>SE2</td>\n      <td>2024-04-01</td>\n      <td>732000</td>\n      <td>NaN</td>\n      <td>0.5717</td>\n      <td>2024-10-01</td>\n      <td>732000.0</td>\n    </tr>\n    <tr>\n      <th>102357</th>\n      <td>88357331</td>\n      <td>2022-10-01</td>\n      <td>460.535505</td>\n      <td>484399</td>\n      <td>SE2</td>\n      <td>2024-10-01</td>\n      <td>0</td>\n      <td>73200.0</td>\n      <td>0.6015</td>\n      <td>2025-04-01</td>\n      <td>73200.0</td>\n    </tr>\n    <tr>\n      <th>102358</th>\n      <td>88357331</td>\n      <td>2022-10-01</td>\n      <td>460.535505</td>\n      <td>484399</td>\n      <td>SE2</td>\n      <td>2024-10-01</td>\n      <td>73200</td>\n      <td>732000.0</td>\n      <td>0.6428</td>\n      <td>2025-04-01</td>\n      <td>732000.0</td>\n    </tr>\n    <tr>\n      <th>102359</th>\n      <td>88357331</td>\n      <td>2022-10-01</td>\n      <td>460.535505</td>\n      <td>484399</td>\n      <td>SE2</td>\n      <td>2024-10-01</td>\n      <td>732000</td>\n      <td>NaN</td>\n      <td>0.6403</td>\n      <td>2025-04-01</td>\n      <td>732000.0</td>\n    </tr>\n  </tbody>\n</table>\n<p>102360 rows × 11 columns</p>\n</div>"
     },
     "execution_count": 68,
     "metadata": {},
     "output_type": "execute_result"
    }
   ],
   "source": [
    "df_large = df_forecast_table.merge(df_meter_list, on='meter_id').merge(df_rate_table, on=['exit_zone'])\n",
    "\n",
    "# fill in NaN for aq_max_kwh maximum of (aq_kwh + 1) and aq_min_kwh\n",
    "df_large['aq_max_kwh_clean'] = np.maximum(df_large.aq_min_kwh, df_large.aq_max_kwh.fillna(df_large.aq_kwh + 1))\n",
    "df_large"
   ],
   "metadata": {
    "collapsed": false,
    "ExecuteTime": {
     "start_time": "2023-12-04T12:07:14.479408Z",
     "end_time": "2023-12-04T12:07:14.499895Z"
    }
   }
  },
  {
   "cell_type": "code",
   "execution_count": 74,
   "outputs": [
    {
     "data": {
      "text/plain": "        meter_id       date         kwh  aq_kwh exit_zone date_start  \\\n0       14676236 2020-06-01   22.070768   28978       EA1 2020-04-01   \n30      14676236 2020-06-02   19.170720   28978       EA1 2020-04-01   \n60      14676236 2020-06-03   23.555111   28978       EA1 2020-04-01   \n90      14676236 2020-06-04   18.220712   28978       EA1 2020-04-01   \n120     14676236 2020-06-05   14.196134   28978       EA1 2020-04-01   \n...          ...        ...         ...     ...       ...        ...   \n102223  88357331 2022-09-27  441.014725  484399       SE2 2022-04-01   \n102253  88357331 2022-09-28  441.512055  484399       SE2 2022-04-01   \n102283  88357331 2022-09-29  437.240657  484399       SE2 2022-04-01   \n102313  88357331 2022-09-30  517.608354  484399       SE2 2022-04-01   \n102346  88357331 2022-10-01  460.535505  484399       SE2 2022-10-01   \n\n        aq_min_kwh  aq_max_kwh  rate_p_per_kwh   date_end  aq_max_kwh_clean  \n0                0     73200.0          0.2652 2020-10-01           73200.0  \n30               0     73200.0          0.2652 2020-10-01           73200.0  \n60               0     73200.0          0.2652 2020-10-01           73200.0  \n90               0     73200.0          0.2652 2020-10-01           73200.0  \n120              0     73200.0          0.2652 2020-10-01           73200.0  \n...            ...         ...             ...        ...               ...  \n102223       73200    732000.0          0.3647 2022-10-01          732000.0  \n102253       73200    732000.0          0.3647 2022-10-01          732000.0  \n102283       73200    732000.0          0.3647 2022-10-01          732000.0  \n102313       73200    732000.0          0.3647 2022-10-01          732000.0  \n102346       73200    732000.0          0.4085 2023-04-01          732000.0  \n\n[3412 rows x 11 columns]",
      "text/html": "<div>\n<style scoped>\n    .dataframe tbody tr th:only-of-type {\n        vertical-align: middle;\n    }\n\n    .dataframe tbody tr th {\n        vertical-align: top;\n    }\n\n    .dataframe thead th {\n        text-align: right;\n    }\n</style>\n<table border=\"1\" class=\"dataframe\">\n  <thead>\n    <tr style=\"text-align: right;\">\n      <th></th>\n      <th>meter_id</th>\n      <th>date</th>\n      <th>kwh</th>\n      <th>aq_kwh</th>\n      <th>exit_zone</th>\n      <th>date_start</th>\n      <th>aq_min_kwh</th>\n      <th>aq_max_kwh</th>\n      <th>rate_p_per_kwh</th>\n      <th>date_end</th>\n      <th>aq_max_kwh_clean</th>\n    </tr>\n  </thead>\n  <tbody>\n    <tr>\n      <th>0</th>\n      <td>14676236</td>\n      <td>2020-06-01</td>\n      <td>22.070768</td>\n      <td>28978</td>\n      <td>EA1</td>\n      <td>2020-04-01</td>\n      <td>0</td>\n      <td>73200.0</td>\n      <td>0.2652</td>\n      <td>2020-10-01</td>\n      <td>73200.0</td>\n    </tr>\n    <tr>\n      <th>30</th>\n      <td>14676236</td>\n      <td>2020-06-02</td>\n      <td>19.170720</td>\n      <td>28978</td>\n      <td>EA1</td>\n      <td>2020-04-01</td>\n      <td>0</td>\n      <td>73200.0</td>\n      <td>0.2652</td>\n      <td>2020-10-01</td>\n      <td>73200.0</td>\n    </tr>\n    <tr>\n      <th>60</th>\n      <td>14676236</td>\n      <td>2020-06-03</td>\n      <td>23.555111</td>\n      <td>28978</td>\n      <td>EA1</td>\n      <td>2020-04-01</td>\n      <td>0</td>\n      <td>73200.0</td>\n      <td>0.2652</td>\n      <td>2020-10-01</td>\n      <td>73200.0</td>\n    </tr>\n    <tr>\n      <th>90</th>\n      <td>14676236</td>\n      <td>2020-06-04</td>\n      <td>18.220712</td>\n      <td>28978</td>\n      <td>EA1</td>\n      <td>2020-04-01</td>\n      <td>0</td>\n      <td>73200.0</td>\n      <td>0.2652</td>\n      <td>2020-10-01</td>\n      <td>73200.0</td>\n    </tr>\n    <tr>\n      <th>120</th>\n      <td>14676236</td>\n      <td>2020-06-05</td>\n      <td>14.196134</td>\n      <td>28978</td>\n      <td>EA1</td>\n      <td>2020-04-01</td>\n      <td>0</td>\n      <td>73200.0</td>\n      <td>0.2652</td>\n      <td>2020-10-01</td>\n      <td>73200.0</td>\n    </tr>\n    <tr>\n      <th>...</th>\n      <td>...</td>\n      <td>...</td>\n      <td>...</td>\n      <td>...</td>\n      <td>...</td>\n      <td>...</td>\n      <td>...</td>\n      <td>...</td>\n      <td>...</td>\n      <td>...</td>\n      <td>...</td>\n    </tr>\n    <tr>\n      <th>102223</th>\n      <td>88357331</td>\n      <td>2022-09-27</td>\n      <td>441.014725</td>\n      <td>484399</td>\n      <td>SE2</td>\n      <td>2022-04-01</td>\n      <td>73200</td>\n      <td>732000.0</td>\n      <td>0.3647</td>\n      <td>2022-10-01</td>\n      <td>732000.0</td>\n    </tr>\n    <tr>\n      <th>102253</th>\n      <td>88357331</td>\n      <td>2022-09-28</td>\n      <td>441.512055</td>\n      <td>484399</td>\n      <td>SE2</td>\n      <td>2022-04-01</td>\n      <td>73200</td>\n      <td>732000.0</td>\n      <td>0.3647</td>\n      <td>2022-10-01</td>\n      <td>732000.0</td>\n    </tr>\n    <tr>\n      <th>102283</th>\n      <td>88357331</td>\n      <td>2022-09-29</td>\n      <td>437.240657</td>\n      <td>484399</td>\n      <td>SE2</td>\n      <td>2022-04-01</td>\n      <td>73200</td>\n      <td>732000.0</td>\n      <td>0.3647</td>\n      <td>2022-10-01</td>\n      <td>732000.0</td>\n    </tr>\n    <tr>\n      <th>102313</th>\n      <td>88357331</td>\n      <td>2022-09-30</td>\n      <td>517.608354</td>\n      <td>484399</td>\n      <td>SE2</td>\n      <td>2022-04-01</td>\n      <td>73200</td>\n      <td>732000.0</td>\n      <td>0.3647</td>\n      <td>2022-10-01</td>\n      <td>732000.0</td>\n    </tr>\n    <tr>\n      <th>102346</th>\n      <td>88357331</td>\n      <td>2022-10-01</td>\n      <td>460.535505</td>\n      <td>484399</td>\n      <td>SE2</td>\n      <td>2022-10-01</td>\n      <td>73200</td>\n      <td>732000.0</td>\n      <td>0.4085</td>\n      <td>2023-04-01</td>\n      <td>732000.0</td>\n    </tr>\n  </tbody>\n</table>\n<p>3412 rows × 11 columns</p>\n</div>"
     },
     "execution_count": 74,
     "metadata": {},
     "output_type": "execute_result"
    }
   ],
   "source": [
    "\n",
    "# filter for correct period\n",
    "df_large_period_filtered = df_large[np.logical_and(df_large.date >= df_large.date_start,\n",
    "                                                   df_large.date < df_large.date_end)]\n",
    "# filter for correct AQ band\n",
    "df = df_large_period_filtered[np.logical_and(df_large_period_filtered.aq_kwh >= df_large_period_filtered.aq_min_kwh,\n",
    "                                             df_large_period_filtered.aq_kwh < df_large_period_filtered.aq_max_kwh_clean)]\n",
    "df"
   ],
   "metadata": {
    "collapsed": false,
    "ExecuteTime": {
     "start_time": "2023-12-04T12:12:22.876867Z",
     "end_time": "2023-12-04T12:12:22.884988Z"
    }
   }
  },
  {
   "cell_type": "code",
   "execution_count": 75,
   "outputs": [
    {
     "name": "stderr",
     "output_type": "stream",
     "text": [
      "/var/folders/r4/13_py2jj2ybgk5_1_92hr8kr0000gn/T/ipykernel_83184/3672623622.py:2: SettingWithCopyWarning: \n",
      "A value is trying to be set on a copy of a slice from a DataFrame.\n",
      "Try using .loc[row_indexer,col_indexer] = value instead\n",
      "\n",
      "See the caveats in the documentation: https://pandas.pydata.org/pandas-docs/stable/user_guide/indexing.html#returning-a-view-versus-a-copy\n",
      "  df['cost_pound'] = df.kwh * df.rate_p_per_kwh / 100\n"
     ]
    },
    {
     "data": {
      "text/plain": "        meter_id       date         kwh  aq_kwh exit_zone date_start  \\\n0       14676236 2020-06-01   22.070768   28978       EA1 2020-04-01   \n30      14676236 2020-06-02   19.170720   28978       EA1 2020-04-01   \n60      14676236 2020-06-03   23.555111   28978       EA1 2020-04-01   \n90      14676236 2020-06-04   18.220712   28978       EA1 2020-04-01   \n120     14676236 2020-06-05   14.196134   28978       EA1 2020-04-01   \n...          ...        ...         ...     ...       ...        ...   \n102223  88357331 2022-09-27  441.014725  484399       SE2 2022-04-01   \n102253  88357331 2022-09-28  441.512055  484399       SE2 2022-04-01   \n102283  88357331 2022-09-29  437.240657  484399       SE2 2022-04-01   \n102313  88357331 2022-09-30  517.608354  484399       SE2 2022-04-01   \n102346  88357331 2022-10-01  460.535505  484399       SE2 2022-10-01   \n\n        aq_min_kwh  aq_max_kwh  rate_p_per_kwh   date_end  aq_max_kwh_clean  \\\n0                0     73200.0          0.2652 2020-10-01           73200.0   \n30               0     73200.0          0.2652 2020-10-01           73200.0   \n60               0     73200.0          0.2652 2020-10-01           73200.0   \n90               0     73200.0          0.2652 2020-10-01           73200.0   \n120              0     73200.0          0.2652 2020-10-01           73200.0   \n...            ...         ...             ...        ...               ...   \n102223       73200    732000.0          0.3647 2022-10-01          732000.0   \n102253       73200    732000.0          0.3647 2022-10-01          732000.0   \n102283       73200    732000.0          0.3647 2022-10-01          732000.0   \n102313       73200    732000.0          0.3647 2022-10-01          732000.0   \n102346       73200    732000.0          0.4085 2023-04-01          732000.0   \n\n        cost_pound  \n0         0.058532  \n30        0.050841  \n60        0.062468  \n90        0.048321  \n120       0.037648  \n...            ...  \n102223    1.608381  \n102253    1.610194  \n102283    1.594617  \n102313    1.887718  \n102346    1.881288  \n\n[3412 rows x 12 columns]",
      "text/html": "<div>\n<style scoped>\n    .dataframe tbody tr th:only-of-type {\n        vertical-align: middle;\n    }\n\n    .dataframe tbody tr th {\n        vertical-align: top;\n    }\n\n    .dataframe thead th {\n        text-align: right;\n    }\n</style>\n<table border=\"1\" class=\"dataframe\">\n  <thead>\n    <tr style=\"text-align: right;\">\n      <th></th>\n      <th>meter_id</th>\n      <th>date</th>\n      <th>kwh</th>\n      <th>aq_kwh</th>\n      <th>exit_zone</th>\n      <th>date_start</th>\n      <th>aq_min_kwh</th>\n      <th>aq_max_kwh</th>\n      <th>rate_p_per_kwh</th>\n      <th>date_end</th>\n      <th>aq_max_kwh_clean</th>\n      <th>cost_pound</th>\n    </tr>\n  </thead>\n  <tbody>\n    <tr>\n      <th>0</th>\n      <td>14676236</td>\n      <td>2020-06-01</td>\n      <td>22.070768</td>\n      <td>28978</td>\n      <td>EA1</td>\n      <td>2020-04-01</td>\n      <td>0</td>\n      <td>73200.0</td>\n      <td>0.2652</td>\n      <td>2020-10-01</td>\n      <td>73200.0</td>\n      <td>0.058532</td>\n    </tr>\n    <tr>\n      <th>30</th>\n      <td>14676236</td>\n      <td>2020-06-02</td>\n      <td>19.170720</td>\n      <td>28978</td>\n      <td>EA1</td>\n      <td>2020-04-01</td>\n      <td>0</td>\n      <td>73200.0</td>\n      <td>0.2652</td>\n      <td>2020-10-01</td>\n      <td>73200.0</td>\n      <td>0.050841</td>\n    </tr>\n    <tr>\n      <th>60</th>\n      <td>14676236</td>\n      <td>2020-06-03</td>\n      <td>23.555111</td>\n      <td>28978</td>\n      <td>EA1</td>\n      <td>2020-04-01</td>\n      <td>0</td>\n      <td>73200.0</td>\n      <td>0.2652</td>\n      <td>2020-10-01</td>\n      <td>73200.0</td>\n      <td>0.062468</td>\n    </tr>\n    <tr>\n      <th>90</th>\n      <td>14676236</td>\n      <td>2020-06-04</td>\n      <td>18.220712</td>\n      <td>28978</td>\n      <td>EA1</td>\n      <td>2020-04-01</td>\n      <td>0</td>\n      <td>73200.0</td>\n      <td>0.2652</td>\n      <td>2020-10-01</td>\n      <td>73200.0</td>\n      <td>0.048321</td>\n    </tr>\n    <tr>\n      <th>120</th>\n      <td>14676236</td>\n      <td>2020-06-05</td>\n      <td>14.196134</td>\n      <td>28978</td>\n      <td>EA1</td>\n      <td>2020-04-01</td>\n      <td>0</td>\n      <td>73200.0</td>\n      <td>0.2652</td>\n      <td>2020-10-01</td>\n      <td>73200.0</td>\n      <td>0.037648</td>\n    </tr>\n    <tr>\n      <th>...</th>\n      <td>...</td>\n      <td>...</td>\n      <td>...</td>\n      <td>...</td>\n      <td>...</td>\n      <td>...</td>\n      <td>...</td>\n      <td>...</td>\n      <td>...</td>\n      <td>...</td>\n      <td>...</td>\n      <td>...</td>\n    </tr>\n    <tr>\n      <th>102223</th>\n      <td>88357331</td>\n      <td>2022-09-27</td>\n      <td>441.014725</td>\n      <td>484399</td>\n      <td>SE2</td>\n      <td>2022-04-01</td>\n      <td>73200</td>\n      <td>732000.0</td>\n      <td>0.3647</td>\n      <td>2022-10-01</td>\n      <td>732000.0</td>\n      <td>1.608381</td>\n    </tr>\n    <tr>\n      <th>102253</th>\n      <td>88357331</td>\n      <td>2022-09-28</td>\n      <td>441.512055</td>\n      <td>484399</td>\n      <td>SE2</td>\n      <td>2022-04-01</td>\n      <td>73200</td>\n      <td>732000.0</td>\n      <td>0.3647</td>\n      <td>2022-10-01</td>\n      <td>732000.0</td>\n      <td>1.610194</td>\n    </tr>\n    <tr>\n      <th>102283</th>\n      <td>88357331</td>\n      <td>2022-09-29</td>\n      <td>437.240657</td>\n      <td>484399</td>\n      <td>SE2</td>\n      <td>2022-04-01</td>\n      <td>73200</td>\n      <td>732000.0</td>\n      <td>0.3647</td>\n      <td>2022-10-01</td>\n      <td>732000.0</td>\n      <td>1.594617</td>\n    </tr>\n    <tr>\n      <th>102313</th>\n      <td>88357331</td>\n      <td>2022-09-30</td>\n      <td>517.608354</td>\n      <td>484399</td>\n      <td>SE2</td>\n      <td>2022-04-01</td>\n      <td>73200</td>\n      <td>732000.0</td>\n      <td>0.3647</td>\n      <td>2022-10-01</td>\n      <td>732000.0</td>\n      <td>1.887718</td>\n    </tr>\n    <tr>\n      <th>102346</th>\n      <td>88357331</td>\n      <td>2022-10-01</td>\n      <td>460.535505</td>\n      <td>484399</td>\n      <td>SE2</td>\n      <td>2022-10-01</td>\n      <td>73200</td>\n      <td>732000.0</td>\n      <td>0.4085</td>\n      <td>2023-04-01</td>\n      <td>732000.0</td>\n      <td>1.881288</td>\n    </tr>\n  </tbody>\n</table>\n<p>3412 rows × 12 columns</p>\n</div>"
     },
     "execution_count": 75,
     "metadata": {},
     "output_type": "execute_result"
    }
   ],
   "source": [
    "# calculate cost\n",
    "df['cost_pound'] = df.kwh * df.rate_p_per_kwh / 100\n",
    "df"
   ],
   "metadata": {
    "collapsed": false,
    "ExecuteTime": {
     "start_time": "2023-12-04T12:12:23.422173Z",
     "end_time": "2023-12-04T12:12:23.424894Z"
    }
   }
  },
  {
   "cell_type": "code",
   "execution_count": 80,
   "outputs": [
    {
     "data": {
      "text/plain": "          Total Estimated Consumption (kWh)  Total Cost (£)\nmeter_id                                                   \n14676236                            28978.0          100.15\n34509937                            78324.0          275.49\n50264822                           265667.0          731.24\n88357331                           484399.0         1433.16",
      "text/html": "<div>\n<style scoped>\n    .dataframe tbody tr th:only-of-type {\n        vertical-align: middle;\n    }\n\n    .dataframe tbody tr th {\n        vertical-align: top;\n    }\n\n    .dataframe thead th {\n        text-align: right;\n    }\n</style>\n<table border=\"1\" class=\"dataframe\">\n  <thead>\n    <tr style=\"text-align: right;\">\n      <th></th>\n      <th>Total Estimated Consumption (kWh)</th>\n      <th>Total Cost (£)</th>\n    </tr>\n    <tr>\n      <th>meter_id</th>\n      <th></th>\n      <th></th>\n    </tr>\n  </thead>\n  <tbody>\n    <tr>\n      <th>14676236</th>\n      <td>28978.0</td>\n      <td>100.15</td>\n    </tr>\n    <tr>\n      <th>34509937</th>\n      <td>78324.0</td>\n      <td>275.49</td>\n    </tr>\n    <tr>\n      <th>50264822</th>\n      <td>265667.0</td>\n      <td>731.24</td>\n    </tr>\n    <tr>\n      <th>88357331</th>\n      <td>484399.0</td>\n      <td>1433.16</td>\n    </tr>\n  </tbody>\n</table>\n</div>"
     },
     "execution_count": 80,
     "metadata": {},
     "output_type": "execute_result"
    }
   ],
   "source": [
    "# Result table exercise 1\n",
    "df.groupby('meter_id')[['kwh', 'cost_pound']].sum().round(2).rename(columns={'meter_id': 'Meter ID', 'kwh': 'Total Estimated Consumption (kWh)', 'cost_pound': 'Total Cost (£)'})"
   ],
   "metadata": {
    "collapsed": false,
    "ExecuteTime": {
     "start_time": "2023-12-04T12:17:24.782133Z",
     "end_time": "2023-12-04T12:17:24.788661Z"
    }
   }
  },
  {
   "cell_type": "markdown",
   "source": [
    "## Exercise 2: Random meter generator"
   ],
   "metadata": {
    "collapsed": false
   }
  },
  {
   "cell_type": "code",
   "execution_count": 96,
   "outputs": [],
   "source": [
    "def random_meter_list(n: int) -> pd.DataFrame:\n",
    "    return pd.DataFrame(np.array([np.random.randint(1e8, 1e9, size=n),\n",
    "                         np.random.randint(25e3, 5e5, size=n),\n",
    "                         np.random.choice(df_rate_table.exit_zone.unique(), size=n)]).T, columns=df_meter_list.columns)"
   ],
   "metadata": {
    "collapsed": false,
    "ExecuteTime": {
     "start_time": "2023-12-04T12:31:06.636778Z",
     "end_time": "2023-12-04T12:31:06.642368Z"
    }
   }
  },
  {
   "cell_type": "code",
   "execution_count": 98,
   "outputs": [
    {
     "data": {
      "text/plain": "    meter_id  aq_kwh exit_zone\n0  270874881  125229        LC\n1  750062885  445097       NO2\n2  831866923  227405       NO1\n3  623055754  440923       WA1\n4  403701922  415986       EA2",
      "text/html": "<div>\n<style scoped>\n    .dataframe tbody tr th:only-of-type {\n        vertical-align: middle;\n    }\n\n    .dataframe tbody tr th {\n        vertical-align: top;\n    }\n\n    .dataframe thead th {\n        text-align: right;\n    }\n</style>\n<table border=\"1\" class=\"dataframe\">\n  <thead>\n    <tr style=\"text-align: right;\">\n      <th></th>\n      <th>meter_id</th>\n      <th>aq_kwh</th>\n      <th>exit_zone</th>\n    </tr>\n  </thead>\n  <tbody>\n    <tr>\n      <th>0</th>\n      <td>270874881</td>\n      <td>125229</td>\n      <td>LC</td>\n    </tr>\n    <tr>\n      <th>1</th>\n      <td>750062885</td>\n      <td>445097</td>\n      <td>NO2</td>\n    </tr>\n    <tr>\n      <th>2</th>\n      <td>831866923</td>\n      <td>227405</td>\n      <td>NO1</td>\n    </tr>\n    <tr>\n      <th>3</th>\n      <td>623055754</td>\n      <td>440923</td>\n      <td>WA1</td>\n    </tr>\n    <tr>\n      <th>4</th>\n      <td>403701922</td>\n      <td>415986</td>\n      <td>EA2</td>\n    </tr>\n  </tbody>\n</table>\n</div>"
     },
     "execution_count": 98,
     "metadata": {},
     "output_type": "execute_result"
    }
   ],
   "source": [
    "random_meter_list(5)"
   ],
   "metadata": {
    "collapsed": false,
    "ExecuteTime": {
     "start_time": "2023-12-04T12:31:15.592582Z",
     "end_time": "2023-12-04T12:31:15.596870Z"
    }
   }
  },
  {
   "cell_type": "markdown",
   "source": [
    "## Exercise 3: Mock consumption data generator"
   ],
   "metadata": {
    "collapsed": false
   }
  },
  {
   "cell_type": "code",
   "execution_count": 116,
   "outputs": [],
   "source": [
    "def mock_consumption_data(meter_list: pd.DataFrame, start_date: datetime, duration_in_days: int) -> pd.DataFrame:\n",
    "    date = pd.date_range(start_date, start_date + pd.offsets.DateOffset(days=duration_in_days), inclusive='left')\n",
    "    mock_data = []\n",
    "    for meter in meter_list['meter_id']:\n",
    "        mock_data.append(pd.DataFrame({'meter_id': [meter]*duration_in_days,\n",
    "                                       'date': date,\n",
    "                                       'kwh': np.random.rand(duration_in_days) * 1100 + 2.5}))\n",
    "    return pd.concat(mock_data)"
   ],
   "metadata": {
    "collapsed": false,
    "ExecuteTime": {
     "start_time": "2023-12-04T12:58:22.051276Z",
     "end_time": "2023-12-04T12:58:22.055169Z"
    }
   }
  },
  {
   "cell_type": "code",
   "execution_count": 122,
   "outputs": [
    {
     "data": {
      "text/plain": "    meter_id       date          kwh\n0  464226811 2020-01-01   964.529330\n1  464226811 2020-01-02   307.737341\n2  464226811 2020-01-03   956.953990\n3  464226811 2020-01-04   133.196963\n4  464226811 2020-01-05  1083.531727\n0  160012012 2020-01-01   686.177189\n1  160012012 2020-01-02   719.206603\n2  160012012 2020-01-03   211.526593\n3  160012012 2020-01-04   743.593638\n4  160012012 2020-01-05   445.958985\n0  591641456 2020-01-01   143.066596\n1  591641456 2020-01-02   453.849945\n2  591641456 2020-01-03   747.644404\n3  591641456 2020-01-04   501.318589\n4  591641456 2020-01-05   306.144003\n0  641081456 2020-01-01   985.311549\n1  641081456 2020-01-02   467.361938\n2  641081456 2020-01-03   862.289559\n3  641081456 2020-01-04   876.284735\n4  641081456 2020-01-05   951.082406\n0  306969452 2020-01-01   118.837788\n1  306969452 2020-01-02   136.628934\n2  306969452 2020-01-03    25.354634\n3  306969452 2020-01-04   738.467217\n4  306969452 2020-01-05    45.477607",
      "text/html": "<div>\n<style scoped>\n    .dataframe tbody tr th:only-of-type {\n        vertical-align: middle;\n    }\n\n    .dataframe tbody tr th {\n        vertical-align: top;\n    }\n\n    .dataframe thead th {\n        text-align: right;\n    }\n</style>\n<table border=\"1\" class=\"dataframe\">\n  <thead>\n    <tr style=\"text-align: right;\">\n      <th></th>\n      <th>meter_id</th>\n      <th>date</th>\n      <th>kwh</th>\n    </tr>\n  </thead>\n  <tbody>\n    <tr>\n      <th>0</th>\n      <td>464226811</td>\n      <td>2020-01-01</td>\n      <td>964.529330</td>\n    </tr>\n    <tr>\n      <th>1</th>\n      <td>464226811</td>\n      <td>2020-01-02</td>\n      <td>307.737341</td>\n    </tr>\n    <tr>\n      <th>2</th>\n      <td>464226811</td>\n      <td>2020-01-03</td>\n      <td>956.953990</td>\n    </tr>\n    <tr>\n      <th>3</th>\n      <td>464226811</td>\n      <td>2020-01-04</td>\n      <td>133.196963</td>\n    </tr>\n    <tr>\n      <th>4</th>\n      <td>464226811</td>\n      <td>2020-01-05</td>\n      <td>1083.531727</td>\n    </tr>\n    <tr>\n      <th>0</th>\n      <td>160012012</td>\n      <td>2020-01-01</td>\n      <td>686.177189</td>\n    </tr>\n    <tr>\n      <th>1</th>\n      <td>160012012</td>\n      <td>2020-01-02</td>\n      <td>719.206603</td>\n    </tr>\n    <tr>\n      <th>2</th>\n      <td>160012012</td>\n      <td>2020-01-03</td>\n      <td>211.526593</td>\n    </tr>\n    <tr>\n      <th>3</th>\n      <td>160012012</td>\n      <td>2020-01-04</td>\n      <td>743.593638</td>\n    </tr>\n    <tr>\n      <th>4</th>\n      <td>160012012</td>\n      <td>2020-01-05</td>\n      <td>445.958985</td>\n    </tr>\n    <tr>\n      <th>0</th>\n      <td>591641456</td>\n      <td>2020-01-01</td>\n      <td>143.066596</td>\n    </tr>\n    <tr>\n      <th>1</th>\n      <td>591641456</td>\n      <td>2020-01-02</td>\n      <td>453.849945</td>\n    </tr>\n    <tr>\n      <th>2</th>\n      <td>591641456</td>\n      <td>2020-01-03</td>\n      <td>747.644404</td>\n    </tr>\n    <tr>\n      <th>3</th>\n      <td>591641456</td>\n      <td>2020-01-04</td>\n      <td>501.318589</td>\n    </tr>\n    <tr>\n      <th>4</th>\n      <td>591641456</td>\n      <td>2020-01-05</td>\n      <td>306.144003</td>\n    </tr>\n    <tr>\n      <th>0</th>\n      <td>641081456</td>\n      <td>2020-01-01</td>\n      <td>985.311549</td>\n    </tr>\n    <tr>\n      <th>1</th>\n      <td>641081456</td>\n      <td>2020-01-02</td>\n      <td>467.361938</td>\n    </tr>\n    <tr>\n      <th>2</th>\n      <td>641081456</td>\n      <td>2020-01-03</td>\n      <td>862.289559</td>\n    </tr>\n    <tr>\n      <th>3</th>\n      <td>641081456</td>\n      <td>2020-01-04</td>\n      <td>876.284735</td>\n    </tr>\n    <tr>\n      <th>4</th>\n      <td>641081456</td>\n      <td>2020-01-05</td>\n      <td>951.082406</td>\n    </tr>\n    <tr>\n      <th>0</th>\n      <td>306969452</td>\n      <td>2020-01-01</td>\n      <td>118.837788</td>\n    </tr>\n    <tr>\n      <th>1</th>\n      <td>306969452</td>\n      <td>2020-01-02</td>\n      <td>136.628934</td>\n    </tr>\n    <tr>\n      <th>2</th>\n      <td>306969452</td>\n      <td>2020-01-03</td>\n      <td>25.354634</td>\n    </tr>\n    <tr>\n      <th>3</th>\n      <td>306969452</td>\n      <td>2020-01-04</td>\n      <td>738.467217</td>\n    </tr>\n    <tr>\n      <th>4</th>\n      <td>306969452</td>\n      <td>2020-01-05</td>\n      <td>45.477607</td>\n    </tr>\n  </tbody>\n</table>\n</div>"
     },
     "execution_count": 122,
     "metadata": {},
     "output_type": "execute_result"
    }
   ],
   "source": [
    "mock_consumption_data(random_meter_list(5), start_date=datetime(2020,1,1), duration_in_days=5)"
   ],
   "metadata": {
    "collapsed": false,
    "ExecuteTime": {
     "start_time": "2023-12-04T12:59:45.669769Z",
     "end_time": "2023-12-04T12:59:45.671962Z"
    }
   }
  },
  {
   "cell_type": "code",
   "execution_count": null,
   "outputs": [],
   "source": [],
   "metadata": {
    "collapsed": false
   }
  }
 ],
 "metadata": {
  "kernelspec": {
   "display_name": "Python 3",
   "language": "python",
   "name": "python3"
  },
  "language_info": {
   "codemirror_mode": {
    "name": "ipython",
    "version": 2
   },
   "file_extension": ".py",
   "mimetype": "text/x-python",
   "name": "python",
   "nbconvert_exporter": "python",
   "pygments_lexer": "ipython2",
   "version": "2.7.6"
  }
 },
 "nbformat": 4,
 "nbformat_minor": 0
}
